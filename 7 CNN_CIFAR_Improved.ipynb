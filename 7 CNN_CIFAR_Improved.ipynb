{
 "cells": [
  {
   "cell_type": "code",
   "execution_count": 1,
   "metadata": {
    "colab": {
     "base_uri": "https://localhost:8080/"
    },
    "executionInfo": {
     "elapsed": 1556,
     "status": "ok",
     "timestamp": 1622912888193,
     "user": {
      "displayName": "Darshan Ingle",
      "photoUrl": "https://lh3.googleusercontent.com/a-/AOh14Gim9rInBhU7kMClSmxE1GZrQwXy-Uf5gYHCdCWP=s64",
      "userId": "18152192421742158537"
     },
     "user_tz": -330
    },
    "id": "pmNpq8GML1jW",
    "outputId": "86132daa-167c-4121-83e9-766ce1189a3c"
   },
   "outputs": [
    {
     "name": "stdout",
     "output_type": "stream",
     "text": [
      "2.5.0\n"
     ]
    }
   ],
   "source": [
    "import tensorflow as tf\n",
    "print(tf.__version__)"
   ]
  },
  {
   "cell_type": "code",
   "execution_count": 2,
   "metadata": {
    "executionInfo": {
     "elapsed": 12,
     "status": "ok",
     "timestamp": 1622912888195,
     "user": {
      "displayName": "Darshan Ingle",
      "photoUrl": "https://lh3.googleusercontent.com/a-/AOh14Gim9rInBhU7kMClSmxE1GZrQwXy-Uf5gYHCdCWP=s64",
      "userId": "18152192421742158537"
     },
     "user_tz": -330
    },
    "id": "cBJh6ib6MEIW"
   },
   "outputs": [],
   "source": [
    "# additional imports\n",
    "\n",
    "import numpy as np\n",
    "import matplotlib.pyplot as plt\n",
    "from tensorflow.keras.layers import Input, Conv2D, Dense, Flatten, Dropout, GlobalMaxPooling2D, MaxPooling2D, BatchNormalization\n",
    "from tensorflow.keras.models import Model"
   ]
  },
  {
   "cell_type": "code",
   "execution_count": 3,
   "metadata": {
    "colab": {
     "base_uri": "https://localhost:8080/"
    },
    "executionInfo": {
     "elapsed": 4511,
     "status": "ok",
     "timestamp": 1622912892695,
     "user": {
      "displayName": "Darshan Ingle",
      "photoUrl": "https://lh3.googleusercontent.com/a-/AOh14Gim9rInBhU7kMClSmxE1GZrQwXy-Uf5gYHCdCWP=s64",
      "userId": "18152192421742158537"
     },
     "user_tz": -330
    },
    "id": "H_EGZv1TL4S_",
    "outputId": "33b1827e-e657-4af5-b931-7681e43b3ec5"
   },
   "outputs": [
    {
     "name": "stdout",
     "output_type": "stream",
     "text": [
      "Downloading data from https://www.cs.toronto.edu/~kriz/cifar-10-python.tar.gz\n",
      "170500096/170498071 [==============================] - 2s 0us/step\n",
      "x_train.shape: (50000, 32, 32, 3)\n",
      "y_train.shape (50000,)\n"
     ]
    }
   ],
   "source": [
    "# Load in the data\n",
    "cifar10 = tf.keras.datasets.cifar10\n",
    "\n",
    "(x_train, y_train), (x_test, y_test) = cifar10.load_data()\n",
    "x_train, x_test = x_train / 255.0, x_test / 255.0\n",
    "y_train, y_test = y_train.flatten(), y_test.flatten()\n",
    "print(\"x_train.shape:\", x_train.shape)\n",
    "print(\"y_train.shape\", y_train.shape)"
   ]
  },
  {
   "cell_type": "code",
   "execution_count": 4,
   "metadata": {
    "colab": {
     "base_uri": "https://localhost:8080/"
    },
    "executionInfo": {
     "elapsed": 13,
     "status": "ok",
     "timestamp": 1622912892697,
     "user": {
      "displayName": "Darshan Ingle",
      "photoUrl": "https://lh3.googleusercontent.com/a-/AOh14Gim9rInBhU7kMClSmxE1GZrQwXy-Uf5gYHCdCWP=s64",
      "userId": "18152192421742158537"
     },
     "user_tz": -330
    },
    "id": "1Wr15bYpMwbB",
    "outputId": "e726a5cd-05b1-4f78-849f-9928ce3b5e03"
   },
   "outputs": [
    {
     "name": "stdout",
     "output_type": "stream",
     "text": [
      "number of classes: 10\n"
     ]
    }
   ],
   "source": [
    "# number of classes\n",
    "K = len(set(y_train))\n",
    "print(\"number of classes:\", K)"
   ]
  },
  {
   "cell_type": "code",
   "execution_count": 5,
   "metadata": {
    "colab": {
     "base_uri": "https://localhost:8080/"
    },
    "executionInfo": {
     "elapsed": 346,
     "status": "ok",
     "timestamp": 1622912915892,
     "user": {
      "displayName": "Darshan Ingle",
      "photoUrl": "https://lh3.googleusercontent.com/a-/AOh14Gim9rInBhU7kMClSmxE1GZrQwXy-Uf5gYHCdCWP=s64",
      "userId": "18152192421742158537"
     },
     "user_tz": -330
    },
    "id": "efEedtSgJYX3",
    "outputId": "b9ec806a-845a-46b0-f3b7-125d30b4b357"
   },
   "outputs": [
    {
     "data": {
      "text/plain": [
       "array([[[0.23137255, 0.24313725, 0.24705882],\n",
       "        [0.16862745, 0.18039216, 0.17647059],\n",
       "        [0.19607843, 0.18823529, 0.16862745],\n",
       "        ...,\n",
       "        [0.61960784, 0.51764706, 0.42352941],\n",
       "        [0.59607843, 0.49019608, 0.4       ],\n",
       "        [0.58039216, 0.48627451, 0.40392157]],\n",
       "\n",
       "       [[0.0627451 , 0.07843137, 0.07843137],\n",
       "        [0.        , 0.        , 0.        ],\n",
       "        [0.07058824, 0.03137255, 0.        ],\n",
       "        ...,\n",
       "        [0.48235294, 0.34509804, 0.21568627],\n",
       "        [0.46666667, 0.3254902 , 0.19607843],\n",
       "        [0.47843137, 0.34117647, 0.22352941]],\n",
       "\n",
       "       [[0.09803922, 0.09411765, 0.08235294],\n",
       "        [0.0627451 , 0.02745098, 0.        ],\n",
       "        [0.19215686, 0.10588235, 0.03137255],\n",
       "        ...,\n",
       "        [0.4627451 , 0.32941176, 0.19607843],\n",
       "        [0.47058824, 0.32941176, 0.19607843],\n",
       "        [0.42745098, 0.28627451, 0.16470588]],\n",
       "\n",
       "       ...,\n",
       "\n",
       "       [[0.81568627, 0.66666667, 0.37647059],\n",
       "        [0.78823529, 0.6       , 0.13333333],\n",
       "        [0.77647059, 0.63137255, 0.10196078],\n",
       "        ...,\n",
       "        [0.62745098, 0.52156863, 0.2745098 ],\n",
       "        [0.21960784, 0.12156863, 0.02745098],\n",
       "        [0.20784314, 0.13333333, 0.07843137]],\n",
       "\n",
       "       [[0.70588235, 0.54509804, 0.37647059],\n",
       "        [0.67843137, 0.48235294, 0.16470588],\n",
       "        [0.72941176, 0.56470588, 0.11764706],\n",
       "        ...,\n",
       "        [0.72156863, 0.58039216, 0.36862745],\n",
       "        [0.38039216, 0.24313725, 0.13333333],\n",
       "        [0.3254902 , 0.20784314, 0.13333333]],\n",
       "\n",
       "       [[0.69411765, 0.56470588, 0.45490196],\n",
       "        [0.65882353, 0.50588235, 0.36862745],\n",
       "        [0.70196078, 0.55686275, 0.34117647],\n",
       "        ...,\n",
       "        [0.84705882, 0.72156863, 0.54901961],\n",
       "        [0.59215686, 0.4627451 , 0.32941176],\n",
       "        [0.48235294, 0.36078431, 0.28235294]]])"
      ]
     },
     "execution_count": 5,
     "metadata": {
      "tags": []
     },
     "output_type": "execute_result"
    }
   ],
   "source": [
    "x_train[0]"
   ]
  },
  {
   "cell_type": "code",
   "execution_count": 6,
   "metadata": {
    "colab": {
     "base_uri": "https://localhost:8080/"
    },
    "executionInfo": {
     "elapsed": 337,
     "status": "ok",
     "timestamp": 1622912924638,
     "user": {
      "displayName": "Darshan Ingle",
      "photoUrl": "https://lh3.googleusercontent.com/a-/AOh14Gim9rInBhU7kMClSmxE1GZrQwXy-Uf5gYHCdCWP=s64",
      "userId": "18152192421742158537"
     },
     "user_tz": -330
    },
    "id": "jq6dAK9sJZ2V",
    "outputId": "22602b41-3b4a-42e5-8079-ab9a0ad34469"
   },
   "outputs": [
    {
     "data": {
      "text/plain": [
       "(32, 32, 3)"
      ]
     },
     "execution_count": 6,
     "metadata": {
      "tags": []
     },
     "output_type": "execute_result"
    }
   ],
   "source": [
    "x_train[0].shape"
   ]
  },
  {
   "cell_type": "code",
   "execution_count": null,
   "metadata": {
    "id": "Mmo66uQoMA1Q"
   },
   "outputs": [],
   "source": [
    "# Build the model using the functional API\n",
    "i = Input(shape=x_train[0].shape)\n",
    "# x = Conv2D(32, (3, 3), strides=2, activation='relu')(i)\n",
    "# x = Conv2D(64, (3, 3), strides=2, activation='relu')(x)\n",
    "# x = Conv2D(128, (3, 3), strides=2, activation='relu')(x)\n",
    "\n",
    "x = Conv2D(32, (3, 3), activation='relu', padding='same')(i)\n",
    "x = BatchNormalization()(x)\n",
    "x = Conv2D(32, (3, 3), activation='relu', padding='same')(x)\n",
    "x = BatchNormalization()(x)\n",
    "x = MaxPooling2D((2, 2))(x)\n",
    "# x = Dropout(0.2)(x)\n",
    "x = Conv2D(64, (3, 3), activation='relu', padding='same')(x)\n",
    "x = BatchNormalization()(x)\n",
    "x = Conv2D(64, (3, 3), activation='relu', padding='same')(x)\n",
    "x = BatchNormalization()(x)\n",
    "x = MaxPooling2D((2, 2))(x)\n",
    "# x = Dropout(0.2)(x)\n",
    "x = Conv2D(128, (3, 3), activation='relu', padding='same')(x)\n",
    "x = BatchNormalization()(x)\n",
    "x = Conv2D(128, (3, 3), activation='relu', padding='same')(x)\n",
    "x = BatchNormalization()(x)\n",
    "x = MaxPooling2D((2, 2))(x)\n",
    "# x = Dropout(0.2)(x)\n",
    "\n",
    "# x = GlobalMaxPooling2D()(x)\n",
    "x = Flatten()(x)\n",
    "x = Dropout(0.2)(x)\n",
    "x = Dense(1024, activation='relu')(x)\n",
    "x = Dropout(0.2)(x)\n",
    "x = Dense(K, activation='softmax')(x)\n",
    "\n",
    "model = Model(i, x)"
   ]
  },
  {
   "cell_type": "code",
   "execution_count": null,
   "metadata": {
    "id": "0zF9n0P7NcP-"
   },
   "outputs": [],
   "source": [
    "# Compile\n",
    "# Note: make sure you are using the GPU for this!\n",
    "model.compile(optimizer='adam',\n",
    "              loss='sparse_categorical_crossentropy',\n",
    "              metrics=['accuracy'])"
   ]
  },
  {
   "cell_type": "code",
   "execution_count": null,
   "metadata": {
    "colab": {
     "base_uri": "https://localhost:8080/",
     "height": 1000
    },
    "executionInfo": {
     "elapsed": 644004,
     "status": "ok",
     "timestamp": 1602443911799,
     "user": {
      "displayName": "Darshan Ingle",
      "photoUrl": "https://lh3.googleusercontent.com/a-/AOh14Gim9rInBhU7kMClSmxE1GZrQwXy-Uf5gYHCdCWP=s64",
      "userId": "18152192421742158537"
     },
     "user_tz": -330
    },
    "id": "BBzAGEjOkvFz",
    "outputId": "391edf8d-6ae1-4368-f9d7-ce2d6445c5bd"
   },
   "outputs": [
    {
     "name": "stdout",
     "output_type": "stream",
     "text": [
      "Epoch 1/50\n",
      "1563/1563 [==============================] - 13s 8ms/step - loss: 1.2911 - accuracy: 0.5552 - val_loss: 1.0971 - val_accuracy: 0.6346\n",
      "Epoch 2/50\n",
      "1563/1563 [==============================] - 12s 8ms/step - loss: 0.8434 - accuracy: 0.7052 - val_loss: 0.9171 - val_accuracy: 0.6931\n",
      "Epoch 3/50\n",
      "1563/1563 [==============================] - 12s 8ms/step - loss: 0.6974 - accuracy: 0.7607 - val_loss: 0.7292 - val_accuracy: 0.7499\n",
      "Epoch 4/50\n",
      "1563/1563 [==============================] - 12s 8ms/step - loss: 0.5874 - accuracy: 0.8012 - val_loss: 0.6831 - val_accuracy: 0.7724\n",
      "Epoch 5/50\n",
      "1563/1563 [==============================] - 12s 8ms/step - loss: 0.4968 - accuracy: 0.8291 - val_loss: 0.6148 - val_accuracy: 0.7984\n",
      "Epoch 6/50\n",
      "1563/1563 [==============================] - 12s 8ms/step - loss: 0.4208 - accuracy: 0.8559 - val_loss: 0.6924 - val_accuracy: 0.7756\n",
      "Epoch 7/50\n",
      "1563/1563 [==============================] - 12s 8ms/step - loss: 0.3569 - accuracy: 0.8771 - val_loss: 0.6290 - val_accuracy: 0.8140\n",
      "Epoch 8/50\n",
      "1563/1563 [==============================] - 12s 8ms/step - loss: 0.2994 - accuracy: 0.8974 - val_loss: 0.6273 - val_accuracy: 0.8134\n",
      "Epoch 9/50\n",
      "1563/1563 [==============================] - 12s 8ms/step - loss: 0.2531 - accuracy: 0.9119 - val_loss: 0.7301 - val_accuracy: 0.8008\n",
      "Epoch 10/50\n",
      "1563/1563 [==============================] - 12s 8ms/step - loss: 0.2206 - accuracy: 0.9248 - val_loss: 0.6399 - val_accuracy: 0.8170\n",
      "Epoch 11/50\n",
      "1563/1563 [==============================] - 12s 8ms/step - loss: 0.1928 - accuracy: 0.9340 - val_loss: 0.6643 - val_accuracy: 0.8161\n",
      "Epoch 12/50\n",
      "1563/1563 [==============================] - 12s 8ms/step - loss: 0.1742 - accuracy: 0.9406 - val_loss: 0.7094 - val_accuracy: 0.8186\n",
      "Epoch 13/50\n",
      "1563/1563 [==============================] - 12s 8ms/step - loss: 0.1567 - accuracy: 0.9471 - val_loss: 0.7559 - val_accuracy: 0.8228\n",
      "Epoch 14/50\n",
      "1563/1563 [==============================] - 12s 8ms/step - loss: 0.1451 - accuracy: 0.9511 - val_loss: 0.7011 - val_accuracy: 0.8294\n",
      "Epoch 15/50\n",
      "1563/1563 [==============================] - 12s 8ms/step - loss: 0.1314 - accuracy: 0.9569 - val_loss: 0.7707 - val_accuracy: 0.8183\n",
      "Epoch 16/50\n",
      "1563/1563 [==============================] - 12s 8ms/step - loss: 0.1237 - accuracy: 0.9589 - val_loss: 0.8277 - val_accuracy: 0.8173\n",
      "Epoch 17/50\n",
      "1563/1563 [==============================] - 12s 8ms/step - loss: 0.1173 - accuracy: 0.9607 - val_loss: 0.7229 - val_accuracy: 0.8343\n",
      "Epoch 18/50\n",
      "1563/1563 [==============================] - 12s 8ms/step - loss: 0.1108 - accuracy: 0.9638 - val_loss: 0.7497 - val_accuracy: 0.8312\n",
      "Epoch 19/50\n",
      "1563/1563 [==============================] - 12s 8ms/step - loss: 0.1033 - accuracy: 0.9657 - val_loss: 0.7864 - val_accuracy: 0.8279\n",
      "Epoch 20/50\n",
      "1563/1563 [==============================] - 12s 8ms/step - loss: 0.0980 - accuracy: 0.9673 - val_loss: 0.7955 - val_accuracy: 0.8314\n",
      "Epoch 21/50\n",
      "1563/1563 [==============================] - 12s 8ms/step - loss: 0.0941 - accuracy: 0.9694 - val_loss: 0.8249 - val_accuracy: 0.8302\n",
      "Epoch 22/50\n",
      "1563/1563 [==============================] - 12s 8ms/step - loss: 0.0855 - accuracy: 0.9717 - val_loss: 0.8164 - val_accuracy: 0.8364\n",
      "Epoch 23/50\n",
      "1563/1563 [==============================] - 12s 8ms/step - loss: 0.0850 - accuracy: 0.9725 - val_loss: 0.8713 - val_accuracy: 0.8219\n",
      "Epoch 24/50\n",
      "1563/1563 [==============================] - 12s 8ms/step - loss: 0.0812 - accuracy: 0.9741 - val_loss: 0.7785 - val_accuracy: 0.8355\n",
      "Epoch 25/50\n",
      "1563/1563 [==============================] - 12s 8ms/step - loss: 0.0755 - accuracy: 0.9750 - val_loss: 0.7218 - val_accuracy: 0.8323\n",
      "Epoch 26/50\n",
      "1563/1563 [==============================] - 12s 8ms/step - loss: 0.0742 - accuracy: 0.9748 - val_loss: 0.7841 - val_accuracy: 0.8348\n",
      "Epoch 27/50\n",
      "1563/1563 [==============================] - 12s 8ms/step - loss: 0.0668 - accuracy: 0.9779 - val_loss: 0.7856 - val_accuracy: 0.8420\n",
      "Epoch 28/50\n",
      "1563/1563 [==============================] - 12s 8ms/step - loss: 0.0681 - accuracy: 0.9777 - val_loss: 0.7816 - val_accuracy: 0.8401\n",
      "Epoch 29/50\n",
      "1563/1563 [==============================] - 12s 8ms/step - loss: 0.0675 - accuracy: 0.9786 - val_loss: 0.7675 - val_accuracy: 0.8387\n",
      "Epoch 30/50\n",
      "1563/1563 [==============================] - 12s 8ms/step - loss: 0.0638 - accuracy: 0.9793 - val_loss: 0.8497 - val_accuracy: 0.8297\n",
      "Epoch 31/50\n",
      "1563/1563 [==============================] - 12s 8ms/step - loss: 0.0605 - accuracy: 0.9800 - val_loss: 0.8174 - val_accuracy: 0.8420\n",
      "Epoch 32/50\n",
      "1563/1563 [==============================] - 12s 8ms/step - loss: 0.0583 - accuracy: 0.9807 - val_loss: 0.8360 - val_accuracy: 0.8384\n",
      "Epoch 33/50\n",
      "1563/1563 [==============================] - 12s 8ms/step - loss: 0.0610 - accuracy: 0.9809 - val_loss: 0.8641 - val_accuracy: 0.8312\n",
      "Epoch 34/50\n",
      "1563/1563 [==============================] - 12s 8ms/step - loss: 0.0533 - accuracy: 0.9832 - val_loss: 0.8409 - val_accuracy: 0.8340\n",
      "Epoch 35/50\n",
      "1563/1563 [==============================] - 13s 8ms/step - loss: 0.0544 - accuracy: 0.9824 - val_loss: 0.9149 - val_accuracy: 0.8380\n",
      "Epoch 36/50\n",
      "1563/1563 [==============================] - 12s 8ms/step - loss: 0.0532 - accuracy: 0.9827 - val_loss: 0.8677 - val_accuracy: 0.8436\n",
      "Epoch 37/50\n",
      "1563/1563 [==============================] - 12s 8ms/step - loss: 0.0524 - accuracy: 0.9835 - val_loss: 0.8253 - val_accuracy: 0.8267\n",
      "Epoch 38/50\n",
      "1563/1563 [==============================] - 12s 8ms/step - loss: 0.0515 - accuracy: 0.9836 - val_loss: 0.8068 - val_accuracy: 0.8401\n",
      "Epoch 39/50\n",
      "1563/1563 [==============================] - 12s 8ms/step - loss: 0.0489 - accuracy: 0.9842 - val_loss: 0.8036 - val_accuracy: 0.8419\n",
      "Epoch 40/50\n",
      "1563/1563 [==============================] - 12s 8ms/step - loss: 0.0466 - accuracy: 0.9850 - val_loss: 0.8130 - val_accuracy: 0.8399\n",
      "Epoch 41/50\n",
      "1563/1563 [==============================] - 12s 8ms/step - loss: 0.0494 - accuracy: 0.9841 - val_loss: 0.8138 - val_accuracy: 0.8416\n",
      "Epoch 42/50\n",
      "1563/1563 [==============================] - 12s 8ms/step - loss: 0.0471 - accuracy: 0.9849 - val_loss: 0.9162 - val_accuracy: 0.8420\n",
      "Epoch 43/50\n",
      "1563/1563 [==============================] - 12s 8ms/step - loss: 0.0476 - accuracy: 0.9848 - val_loss: 0.8682 - val_accuracy: 0.8443\n",
      "Epoch 44/50\n",
      "1563/1563 [==============================] - 12s 8ms/step - loss: 0.0433 - accuracy: 0.9862 - val_loss: 0.9299 - val_accuracy: 0.8371\n",
      "Epoch 45/50\n",
      "1563/1563 [==============================] - 12s 8ms/step - loss: 0.0446 - accuracy: 0.9857 - val_loss: 0.9257 - val_accuracy: 0.8392\n",
      "Epoch 46/50\n",
      "1563/1563 [==============================] - 12s 8ms/step - loss: 0.0443 - accuracy: 0.9860 - val_loss: 0.8843 - val_accuracy: 0.8414\n",
      "Epoch 47/50\n",
      "1563/1563 [==============================] - 12s 8ms/step - loss: 0.0452 - accuracy: 0.9858 - val_loss: 0.8122 - val_accuracy: 0.8401\n",
      "Epoch 48/50\n",
      "1563/1563 [==============================] - 12s 8ms/step - loss: 0.0426 - accuracy: 0.9866 - val_loss: 0.9221 - val_accuracy: 0.8482\n",
      "Epoch 49/50\n",
      "1563/1563 [==============================] - 12s 8ms/step - loss: 0.0423 - accuracy: 0.9866 - val_loss: 0.9656 - val_accuracy: 0.8472\n",
      "Epoch 50/50\n",
      "1563/1563 [==============================] - 12s 8ms/step - loss: 0.0427 - accuracy: 0.9871 - val_loss: 0.8401 - val_accuracy: 0.8454\n"
     ]
    }
   ],
   "source": [
    "# Fit\n",
    "r = model.fit(x_train, y_train, validation_data=(x_test, y_test), epochs=50)"
   ]
  },
  {
   "cell_type": "code",
   "execution_count": null,
   "metadata": {
    "colab": {
     "base_uri": "https://localhost:8080/",
     "height": 1000
    },
    "executionInfo": {
     "elapsed": 1299564,
     "status": "ok",
     "timestamp": 1602446731627,
     "user": {
      "displayName": "Darshan Ingle",
      "photoUrl": "https://lh3.googleusercontent.com/a-/AOh14Gim9rInBhU7kMClSmxE1GZrQwXy-Uf5gYHCdCWP=s64",
      "userId": "18152192421742158537"
     },
     "user_tz": -330
    },
    "id": "af61hXUrYjsZ",
    "outputId": "cdcdd4e0-748f-418a-bb9d-abb3bbeed001"
   },
   "outputs": [
    {
     "name": "stdout",
     "output_type": "stream",
     "text": [
      "WARNING:tensorflow:From <ipython-input-7-559de69adfa3>:7: Model.fit_generator (from tensorflow.python.keras.engine.training) is deprecated and will be removed in a future version.\n",
      "Instructions for updating:\n",
      "Please use Model.fit, which supports generators.\n",
      "Epoch 1/50\n",
      "1562/1562 [==============================] - 26s 17ms/step - loss: 1.4528 - accuracy: 0.4937 - val_loss: 1.3206 - val_accuracy: 0.5451\n",
      "Epoch 2/50\n",
      "1562/1562 [==============================] - 26s 16ms/step - loss: 1.0017 - accuracy: 0.6499 - val_loss: 1.0008 - val_accuracy: 0.6644\n",
      "Epoch 3/50\n",
      "1562/1562 [==============================] - 26s 17ms/step - loss: 0.8533 - accuracy: 0.7033 - val_loss: 0.7260 - val_accuracy: 0.7524\n",
      "Epoch 4/50\n",
      "1562/1562 [==============================] - 26s 17ms/step - loss: 0.7582 - accuracy: 0.7398 - val_loss: 0.6738 - val_accuracy: 0.7694\n",
      "Epoch 5/50\n",
      "1562/1562 [==============================] - 26s 16ms/step - loss: 0.6857 - accuracy: 0.7655 - val_loss: 0.6775 - val_accuracy: 0.7702\n",
      "Epoch 6/50\n",
      "1562/1562 [==============================] - 26s 17ms/step - loss: 0.6382 - accuracy: 0.7818 - val_loss: 0.6337 - val_accuracy: 0.7859\n",
      "Epoch 7/50\n",
      "1562/1562 [==============================] - 26s 17ms/step - loss: 0.5897 - accuracy: 0.7984 - val_loss: 0.6882 - val_accuracy: 0.7732\n",
      "Epoch 8/50\n",
      "1562/1562 [==============================] - 26s 16ms/step - loss: 0.5571 - accuracy: 0.8097 - val_loss: 0.5511 - val_accuracy: 0.8166\n",
      "Epoch 9/50\n",
      "1562/1562 [==============================] - 26s 16ms/step - loss: 0.5212 - accuracy: 0.8222 - val_loss: 0.7111 - val_accuracy: 0.7828\n",
      "Epoch 10/50\n",
      "1562/1562 [==============================] - 26s 16ms/step - loss: 0.5001 - accuracy: 0.8306 - val_loss: 0.5080 - val_accuracy: 0.8262\n",
      "Epoch 11/50\n",
      "1562/1562 [==============================] - 26s 16ms/step - loss: 0.4716 - accuracy: 0.8374 - val_loss: 0.4914 - val_accuracy: 0.8395\n",
      "Epoch 12/50\n",
      "1562/1562 [==============================] - 25s 16ms/step - loss: 0.4518 - accuracy: 0.8453 - val_loss: 0.5642 - val_accuracy: 0.8188\n",
      "Epoch 13/50\n",
      "1562/1562 [==============================] - 26s 16ms/step - loss: 0.4327 - accuracy: 0.8519 - val_loss: 0.5255 - val_accuracy: 0.8261\n",
      "Epoch 14/50\n",
      "1562/1562 [==============================] - 26s 16ms/step - loss: 0.4102 - accuracy: 0.8603 - val_loss: 0.4860 - val_accuracy: 0.8423\n",
      "Epoch 15/50\n",
      "1562/1562 [==============================] - 26s 16ms/step - loss: 0.3965 - accuracy: 0.8655 - val_loss: 0.4782 - val_accuracy: 0.8410\n",
      "Epoch 16/50\n",
      "1562/1562 [==============================] - 26s 16ms/step - loss: 0.3792 - accuracy: 0.8702 - val_loss: 0.4601 - val_accuracy: 0.8487\n",
      "Epoch 17/50\n",
      "1562/1562 [==============================] - 26s 16ms/step - loss: 0.3695 - accuracy: 0.8719 - val_loss: 0.4327 - val_accuracy: 0.8607\n",
      "Epoch 18/50\n",
      "1562/1562 [==============================] - 25s 16ms/step - loss: 0.3531 - accuracy: 0.8786 - val_loss: 0.4236 - val_accuracy: 0.8605\n",
      "Epoch 19/50\n",
      "1562/1562 [==============================] - 26s 17ms/step - loss: 0.3406 - accuracy: 0.8829 - val_loss: 0.4087 - val_accuracy: 0.8640\n",
      "Epoch 20/50\n",
      "1562/1562 [==============================] - 27s 17ms/step - loss: 0.3303 - accuracy: 0.8880 - val_loss: 0.4514 - val_accuracy: 0.8579\n",
      "Epoch 21/50\n",
      "1562/1562 [==============================] - 26s 17ms/step - loss: 0.3250 - accuracy: 0.8895 - val_loss: 0.3970 - val_accuracy: 0.8663\n",
      "Epoch 22/50\n",
      "1562/1562 [==============================] - 26s 17ms/step - loss: 0.3165 - accuracy: 0.8918 - val_loss: 0.4613 - val_accuracy: 0.8492\n",
      "Epoch 23/50\n",
      "1562/1562 [==============================] - 26s 17ms/step - loss: 0.3046 - accuracy: 0.8954 - val_loss: 0.4322 - val_accuracy: 0.8601\n",
      "Epoch 24/50\n",
      "1562/1562 [==============================] - 26s 16ms/step - loss: 0.3005 - accuracy: 0.8960 - val_loss: 0.3934 - val_accuracy: 0.8708\n",
      "Epoch 25/50\n",
      "1562/1562 [==============================] - 26s 16ms/step - loss: 0.2930 - accuracy: 0.9002 - val_loss: 0.4269 - val_accuracy: 0.8576\n",
      "Epoch 26/50\n",
      "1562/1562 [==============================] - 26s 17ms/step - loss: 0.2837 - accuracy: 0.9019 - val_loss: 0.4245 - val_accuracy: 0.8634\n",
      "Epoch 27/50\n",
      "1562/1562 [==============================] - 26s 17ms/step - loss: 0.2797 - accuracy: 0.9032 - val_loss: 0.4071 - val_accuracy: 0.8683\n",
      "Epoch 28/50\n",
      "1562/1562 [==============================] - 26s 17ms/step - loss: 0.2696 - accuracy: 0.9068 - val_loss: 0.4016 - val_accuracy: 0.8696\n",
      "Epoch 29/50\n",
      "1562/1562 [==============================] - 26s 17ms/step - loss: 0.2612 - accuracy: 0.9090 - val_loss: 0.5016 - val_accuracy: 0.8469\n",
      "Epoch 30/50\n",
      "1562/1562 [==============================] - 27s 17ms/step - loss: 0.2581 - accuracy: 0.9109 - val_loss: 0.4391 - val_accuracy: 0.8671\n",
      "Epoch 31/50\n",
      "1562/1562 [==============================] - 26s 17ms/step - loss: 0.2515 - accuracy: 0.9140 - val_loss: 0.4861 - val_accuracy: 0.8558\n",
      "Epoch 32/50\n",
      "1562/1562 [==============================] - 26s 17ms/step - loss: 0.2521 - accuracy: 0.9132 - val_loss: 0.4128 - val_accuracy: 0.8691\n",
      "Epoch 33/50\n",
      "1562/1562 [==============================] - 26s 17ms/step - loss: 0.2441 - accuracy: 0.9166 - val_loss: 0.3987 - val_accuracy: 0.8715\n",
      "Epoch 34/50\n",
      "1562/1562 [==============================] - 26s 16ms/step - loss: 0.2399 - accuracy: 0.9168 - val_loss: 0.4138 - val_accuracy: 0.8713\n",
      "Epoch 35/50\n",
      "1562/1562 [==============================] - 26s 17ms/step - loss: 0.2294 - accuracy: 0.9213 - val_loss: 0.5011 - val_accuracy: 0.8492\n",
      "Epoch 36/50\n",
      "1562/1562 [==============================] - 26s 17ms/step - loss: 0.2232 - accuracy: 0.9229 - val_loss: 0.4657 - val_accuracy: 0.8620\n",
      "Epoch 37/50\n",
      "1562/1562 [==============================] - 26s 16ms/step - loss: 0.2276 - accuracy: 0.9215 - val_loss: 0.4906 - val_accuracy: 0.8542\n",
      "Epoch 38/50\n",
      "1562/1562 [==============================] - 26s 17ms/step - loss: 0.2226 - accuracy: 0.9239 - val_loss: 0.3880 - val_accuracy: 0.8834\n",
      "Epoch 39/50\n",
      "1562/1562 [==============================] - 26s 17ms/step - loss: 0.2218 - accuracy: 0.9243 - val_loss: 0.4728 - val_accuracy: 0.8655\n",
      "Epoch 40/50\n",
      "1562/1562 [==============================] - 26s 17ms/step - loss: 0.2125 - accuracy: 0.9260 - val_loss: 0.4199 - val_accuracy: 0.8803\n",
      "Epoch 41/50\n",
      "1562/1562 [==============================] - 26s 16ms/step - loss: 0.2144 - accuracy: 0.9262 - val_loss: 0.4402 - val_accuracy: 0.8749\n",
      "Epoch 42/50\n",
      "1562/1562 [==============================] - 26s 17ms/step - loss: 0.2041 - accuracy: 0.9298 - val_loss: 0.4039 - val_accuracy: 0.8787\n",
      "Epoch 43/50\n",
      "1562/1562 [==============================] - 26s 17ms/step - loss: 0.2057 - accuracy: 0.9285 - val_loss: 0.5206 - val_accuracy: 0.8593\n",
      "Epoch 44/50\n",
      "1562/1562 [==============================] - 26s 17ms/step - loss: 0.2090 - accuracy: 0.9282 - val_loss: 0.4471 - val_accuracy: 0.8676\n",
      "Epoch 45/50\n",
      "1562/1562 [==============================] - 26s 17ms/step - loss: 0.1980 - accuracy: 0.9313 - val_loss: 0.3879 - val_accuracy: 0.8852\n",
      "Epoch 46/50\n",
      "1562/1562 [==============================] - 26s 16ms/step - loss: 0.1972 - accuracy: 0.9328 - val_loss: 0.4297 - val_accuracy: 0.8752\n",
      "Epoch 47/50\n",
      "1562/1562 [==============================] - 25s 16ms/step - loss: 0.1955 - accuracy: 0.9343 - val_loss: 0.4291 - val_accuracy: 0.8782\n",
      "Epoch 48/50\n",
      "1562/1562 [==============================] - 26s 16ms/step - loss: 0.1889 - accuracy: 0.9360 - val_loss: 0.3948 - val_accuracy: 0.8835\n",
      "Epoch 49/50\n",
      "1562/1562 [==============================] - 26s 16ms/step - loss: 0.1868 - accuracy: 0.9347 - val_loss: 0.4339 - val_accuracy: 0.8795\n",
      "Epoch 50/50\n",
      "1562/1562 [==============================] - 25s 16ms/step - loss: 0.1802 - accuracy: 0.9373 - val_loss: 0.4180 - val_accuracy: 0.8795\n"
     ]
    }
   ],
   "source": [
    "# Fit with data augmentation\n",
    "# Note: if you run this AFTER calling the previous model.fit(), it will CONTINUE training where it left off\n",
    "batch_size = 32\n",
    "data_generator = tf.keras.preprocessing.image.ImageDataGenerator(width_shift_range=0.1, height_shift_range=0.1, horizontal_flip=True)\n",
    "train_generator = data_generator.flow(x_train, y_train, batch_size)\n",
    "steps_per_epoch = x_train.shape[0] // batch_size\n",
    "r = model.fit_generator(train_generator, validation_data=(x_test, y_test), steps_per_epoch=steps_per_epoch, epochs=50)"
   ]
  },
  {
   "cell_type": "markdown",
   "metadata": {
    "id": "G7Zw6GGocfcd"
   },
   "source": [
    "**Observation:**\n",
    "\n",
    "We are getting a lower training accuracy but a higher Validation accuracy. Hence, there is lesser Overfitting. Therefore, the model has improved."
   ]
  },
  {
   "cell_type": "code",
   "execution_count": null,
   "metadata": {
    "colab": {
     "base_uri": "https://localhost:8080/",
     "height": 282
    },
    "executionInfo": {
     "elapsed": 1973,
     "status": "ok",
     "timestamp": 1602447034152,
     "user": {
      "displayName": "Darshan Ingle",
      "photoUrl": "https://lh3.googleusercontent.com/a-/AOh14Gim9rInBhU7kMClSmxE1GZrQwXy-Uf5gYHCdCWP=s64",
      "userId": "18152192421742158537"
     },
     "user_tz": -330
    },
    "id": "ML37hw4iOkBm",
    "outputId": "7bd1dd32-5d67-422a-a558-eccc0afdbb66"
   },
   "outputs": [
    {
     "data": {
      "text/plain": [
       "<matplotlib.legend.Legend at 0x7f56eccd4358>"
      ]
     },
     "execution_count": 8,
     "metadata": {
      "tags": []
     },
     "output_type": "execute_result"
    },
    {
     "data": {
      "image/png": "[encoded data removed]",
      "text/plain": [
       "<Figure size 432x288 with 1 Axes>"
      ]
     },
     "metadata": {
      "needs_background": "light",
      "tags": []
     },
     "output_type": "display_data"
    }
   ],
   "source": [
    "# Plot loss per iteration\n",
    "import matplotlib.pyplot as plt\n",
    "plt.plot(r.history['loss'], label='loss')\n",
    "plt.plot(r.history['val_loss'], label='val_loss')\n",
    "plt.legend()"
   ]
  },
  {
   "cell_type": "markdown",
   "metadata": {
    "id": "2pMzlBtxc-sL"
   },
   "source": [
    "**Observation:**\n",
    "\n",
    "A much better learning curve than before. "
   ]
  },
  {
   "cell_type": "code",
   "execution_count": null,
   "metadata": {
    "colab": {
     "base_uri": "https://localhost:8080/",
     "height": 282
    },
    "executionInfo": {
     "elapsed": 1865,
     "status": "ok",
     "timestamp": 1602447040812,
     "user": {
      "displayName": "Darshan Ingle",
      "photoUrl": "https://lh3.googleusercontent.com/a-/AOh14Gim9rInBhU7kMClSmxE1GZrQwXy-Uf5gYHCdCWP=s64",
      "userId": "18152192421742158537"
     },
     "user_tz": -330
    },
    "id": "pemstSDIOpIb",
    "outputId": "d178fbed-4a46-4672-ae0f-070de152e590"
   },
   "outputs": [
    {
     "data": {
      "text/plain": [
       "<matplotlib.legend.Legend at 0x7f56ecd2bac8>"
      ]
     },
     "execution_count": 9,
     "metadata": {
      "tags": []
     },
     "output_type": "execute_result"
    },
    {
     "data": {
      "image/png": "[encoded data removed]",
      "text/plain": [
       "<Figure size 432x288 with 1 Axes>"
      ]
     },
     "metadata": {
      "needs_background": "light",
      "tags": []
     },
     "output_type": "display_data"
    }
   ],
   "source": [
    "# Plot accuracy per iteration\n",
    "plt.plot(r.history['accuracy'], label='acc')\n",
    "plt.plot(r.history['val_accuracy'], label='val_acc')\n",
    "plt.legend()"
   ]
  },
  {
   "cell_type": "code",
   "execution_count": null,
   "metadata": {
    "colab": {
     "base_uri": "https://localhost:8080/",
     "height": 504
    },
    "executionInfo": {
     "elapsed": 2810,
     "status": "ok",
     "timestamp": 1602447048669,
     "user": {
      "displayName": "Darshan Ingle",
      "photoUrl": "https://lh3.googleusercontent.com/a-/AOh14Gim9rInBhU7kMClSmxE1GZrQwXy-Uf5gYHCdCWP=s64",
      "userId": "18152192421742158537"
     },
     "user_tz": -330
    },
    "id": "2LJTd4OiO6kL",
    "outputId": "aefb729d-ad65-4695-cc5a-49695f766ac5"
   },
   "outputs": [
    {
     "name": "stdout",
     "output_type": "stream",
     "text": [
      "Confusion matrix, without normalization\n",
      "[[931   6  24   3   2   0   4   2  17  11]\n",
      " [  3 952   0   0   0   0   2   0   3  40]\n",
      " [ 27   1 834  31  26  23  43   8   4   3]\n",
      " [ 20   5  43 758  28  61  45  14  11  15]\n",
      " [ 10   1  35  23 871  14  28  12   6   0]\n",
      " [  7   4  31 109  23 772  21  19   4  10]\n",
      " [  3   1  19  27   6   8 932   0   2   2]\n",
      " [ 15   2   8  26  25  13   3 901   1   6]\n",
      " [ 47  13   9   4   2   1   1   0 900  23]\n",
      " [  8  36   0   3   0   3   0   0   6 944]]\n"
     ]
    },
    {
     "data": {
      "image/png": "[encoded data removed]",
      "text/plain": [
       "<Figure size 432x288 with 2 Axes>"
      ]
     },
     "metadata": {
      "needs_background": "light",
      "tags": []
     },
     "output_type": "display_data"
    }
   ],
   "source": [
    "# Plot confusion matrix\n",
    "from sklearn.metrics import confusion_matrix\n",
    "import itertools\n",
    "\n",
    "def plot_confusion_matrix(cm, classes,\n",
    "                          normalize=False,\n",
    "                          title='Confusion matrix',\n",
    "                          cmap=plt.cm.Blues):\n",
    "  \"\"\"\n",
    "  This function prints and plots the confusion matrix.\n",
    "  Normalization can be applied by setting `normalize=True`.\n",
    "  \"\"\"\n",
    "  if normalize:\n",
    "      cm = cm.astype('float') / cm.sum(axis=1)[:, np.newaxis]\n",
    "      print(\"Normalized confusion matrix\")\n",
    "  else:\n",
    "      print('Confusion matrix, without normalization')\n",
    "\n",
    "  print(cm)\n",
    "\n",
    "  plt.imshow(cm, interpolation='nearest', cmap=cmap)\n",
    "  plt.title(title)\n",
    "  plt.colorbar()\n",
    "  tick_marks = np.arange(len(classes))\n",
    "  plt.xticks(tick_marks, classes, rotation=45)\n",
    "  plt.yticks(tick_marks, classes)\n",
    "\n",
    "  fmt = '.2f' if normalize else 'd'\n",
    "  thresh = cm.max() / 2.\n",
    "  for i, j in itertools.product(range(cm.shape[0]), range(cm.shape[1])):\n",
    "      plt.text(j, i, format(cm[i, j], fmt),\n",
    "               horizontalalignment=\"center\",\n",
    "               color=\"white\" if cm[i, j] > thresh else \"black\")\n",
    "\n",
    "  plt.tight_layout()\n",
    "  plt.ylabel('True label')\n",
    "  plt.xlabel('Predicted label')\n",
    "  plt.show()\n",
    "\n",
    "\n",
    "p_test = model.predict(x_test).argmax(axis=1)\n",
    "cm = confusion_matrix(y_test, p_test)\n",
    "plot_confusion_matrix(cm, list(range(10)))\n",
    "\n"
   ]
  },
  {
   "cell_type": "markdown",
   "metadata": {
    "id": "F5Q1Ut2bd1nK"
   },
   "source": [
    "**Observation:** \n",
    "Much lesser misclassifications as promised before.\n",
    "\n",
    "\n",
    "Lets check the two most wrong predictions.\n",
    "\n",
    "a. True Label = 5, Predicted Label = 3, Value = 119\n",
    "\n",
    "b. True Label = 3, Predicted Label = 5, Value = 71\n",
    "\n",
    "c True Label = 3, Predicted Label = 6, Value = 52\n",
    "\n",
    "d. b. True Label = 7, Predicted Label = 4, Value = 20\n",
    "\n",
    "So, in 'a' and 'b', 3 and 5 are getting confused very often, i.e. the Cats and Dogs are getting confused very often. And that does make sense to me because the images are so small that its easy to confuse a cat with a dog.\n",
    "\n",
    "In 'c', 3 'cat' and 6 'frog' are getting confused too. That too makes sense to me because if we look at frog in this dataset, they just appear as little brown blobs.\n",
    "\n",
    "In 'd', 7 'horse' and 4 'deer' are getting confused too. That too makes sense to me because they are both 4 legged animal that kind of look the same. "
   ]
  },
  {
   "cell_type": "code",
   "execution_count": null,
   "metadata": {
    "id": "AgQqQHXNXDgw"
   },
   "outputs": [],
   "source": [
    "# label mapping\n",
    "labels = '''airplane\n",
    "automobile\n",
    "bird\n",
    "cat\n",
    "deer\n",
    "dog\n",
    "frog\n",
    "horse\n",
    "ship\n",
    "truck'''.split()"
   ]
  },
  {
   "cell_type": "code",
   "execution_count": null,
   "metadata": {
    "colab": {
     "base_uri": "https://localhost:8080/",
     "height": 281
    },
    "executionInfo": {
     "elapsed": 1974495,
     "status": "ok",
     "timestamp": 1602445242337,
     "user": {
      "displayName": "Darshan Ingle",
      "photoUrl": "https://lh3.googleusercontent.com/a-/AOh14Gim9rInBhU7kMClSmxE1GZrQwXy-Uf5gYHCdCWP=s64",
      "userId": "18152192421742158537"
     },
     "user_tz": -330
    },
    "id": "jjmW4STFO-Ny",
    "outputId": "d22ced87-0980-4dc7-80d7-15d01318babf"
   },
   "outputs": [
    {
     "data": {
      "image/png": "[encoded data removed]",
      "text/plain": [
       "<Figure size 432x288 with 1 Axes>"
      ]
     },
     "metadata": {
      "needs_background": "light",
      "tags": []
     },
     "output_type": "display_data"
    }
   ],
   "source": [
    "# Show some misclassified examples\n",
    "misclassified_idx = np.where(p_test != y_test)[0]\n",
    "i = np.random.choice(misclassified_idx)\n",
    "plt.imshow(x_test[i], cmap='gray')\n",
    "plt.title(\"True label: %s Predicted: %s\" % (labels[y_test[i]], labels[p_test[i]]));"
   ]
  },
  {
   "cell_type": "code",
   "execution_count": null,
   "metadata": {
    "colab": {
     "base_uri": "https://localhost:8080/",
     "height": 281
    },
    "executionInfo": {
     "elapsed": 2363,
     "status": "ok",
     "timestamp": 1602447071751,
     "user": {
      "displayName": "Darshan Ingle",
      "photoUrl": "https://lh3.googleusercontent.com/a-/AOh14Gim9rInBhU7kMClSmxE1GZrQwXy-Uf5gYHCdCWP=s64",
      "userId": "18152192421742158537"
     },
     "user_tz": -330
    },
    "id": "khHLAUmGSbRx",
    "outputId": "9bd50cdd-b0c0-44f8-e65b-0374a9fa92f9"
   },
   "outputs": [
    {
     "data": {
      "image/png": "[encoded data removed]",
      "text/plain": [
       "<Figure size 432x288 with 1 Axes>"
      ]
     },
     "metadata": {
      "needs_background": "light",
      "tags": []
     },
     "output_type": "display_data"
    }
   ],
   "source": [
    "# Show some misclassified examples\n",
    "misclassified_idx = np.where(p_test != y_test)[0]\n",
    "i = np.random.choice(misclassified_idx)\n",
    "plt.imshow(x_test[i], cmap='gray')\n",
    "plt.title(\"True label: %s Predicted: %s\" % (labels[y_test[i]], labels[p_test[i]]));"
   ]
  },
  {
   "cell_type": "code",
   "execution_count": null,
   "metadata": {
    "colab": {
     "base_uri": "https://localhost:8080/",
     "height": 281
    },
    "executionInfo": {
     "elapsed": 1904,
     "status": "ok",
     "timestamp": 1602447075162,
     "user": {
      "displayName": "Darshan Ingle",
      "photoUrl": "https://lh3.googleusercontent.com/a-/AOh14Gim9rInBhU7kMClSmxE1GZrQwXy-Uf5gYHCdCWP=s64",
      "userId": "18152192421742158537"
     },
     "user_tz": -330
    },
    "id": "GfQKP1QiSbXx",
    "outputId": "cc08fd5c-834b-4ae1-93c8-f1c7aeafb4e4"
   },
   "outputs": [
    {
     "data": {
      "image/png": "[encoded data removed]",
      "text/plain": [
       "<Figure size 432x288 with 1 Axes>"
      ]
     },
     "metadata": {
      "needs_background": "light",
      "tags": []
     },
     "output_type": "display_data"
    }
   ],
   "source": [
    "# Show some misclassified examples\n",
    "misclassified_idx = np.where(p_test != y_test)[0]\n",
    "i = np.random.choice(misclassified_idx)\n",
    "plt.imshow(x_test[i], cmap='gray')\n",
    "plt.title(\"True label: %s Predicted: %s\" % (labels[y_test[i]], labels[p_test[i]]));"
   ]
  },
  {
   "cell_type": "code",
   "execution_count": null,
   "metadata": {
    "colab": {
     "base_uri": "https://localhost:8080/",
     "height": 281
    },
    "executionInfo": {
     "elapsed": 1854,
     "status": "ok",
     "timestamp": 1602447080718,
     "user": {
      "displayName": "Darshan Ingle",
      "photoUrl": "https://lh3.googleusercontent.com/a-/AOh14Gim9rInBhU7kMClSmxE1GZrQwXy-Uf5gYHCdCWP=s64",
      "userId": "18152192421742158537"
     },
     "user_tz": -330
    },
    "id": "mfdKBq6uSbfl",
    "outputId": "db49c4ce-81b2-4ce4-ed33-3bf8a4b226eb"
   },
   "outputs": [
    {
     "data": {
      "image/png": "[encoded data removed]",
      "text/plain": [
       "<Figure size 432x288 with 1 Axes>"
      ]
     },
     "metadata": {
      "needs_background": "light",
      "tags": []
     },
     "output_type": "display_data"
    }
   ],
   "source": [
    "# Show some misclassified examples\n",
    "misclassified_idx = np.where(p_test != y_test)[0]\n",
    "i = np.random.choice(misclassified_idx)\n",
    "plt.imshow(x_test[i], cmap='gray')\n",
    "plt.title(\"True label: %s Predicted: %s\" % (labels[y_test[i]], labels[p_test[i]]));"
   ]
  },
  {
   "cell_type": "code",
   "execution_count": null,
   "metadata": {
    "colab": {
     "base_uri": "https://localhost:8080/",
     "height": 897
    },
    "executionInfo": {
     "elapsed": 1670,
     "status": "ok",
     "timestamp": 1602447087488,
     "user": {
      "displayName": "Darshan Ingle",
      "photoUrl": "https://lh3.googleusercontent.com/a-/AOh14Gim9rInBhU7kMClSmxE1GZrQwXy-Uf5gYHCdCWP=s64",
      "userId": "18152192421742158537"
     },
     "user_tz": -330
    },
    "id": "qNw6PmshWjoZ",
    "outputId": "ce3ea116-a13f-4a51-abbc-46b59e52e1dd"
   },
   "outputs": [
    {
     "name": "stdout",
     "output_type": "stream",
     "text": [
      "Model: \"functional_1\"\n",
      "_________________________________________________________________\n",
      "Layer (type)                 Output Shape              Param #   \n",
      "=================================================================\n",
      "input_1 (InputLayer)         [(None, 32, 32, 3)]       0         \n",
      "_________________________________________________________________\n",
      "conv2d (Conv2D)              (None, 32, 32, 32)        896       \n",
      "_________________________________________________________________\n",
      "batch_normalization (BatchNo (None, 32, 32, 32)        128       \n",
      "_________________________________________________________________\n",
      "conv2d_1 (Conv2D)            (None, 32, 32, 32)        9248      \n",
      "_________________________________________________________________\n",
      "batch_normalization_1 (Batch (None, 32, 32, 32)        128       \n",
      "_________________________________________________________________\n",
      "max_pooling2d (MaxPooling2D) (None, 16, 16, 32)        0         \n",
      "_________________________________________________________________\n",
      "conv2d_2 (Conv2D)            (None, 16, 16, 64)        18496     \n",
      "_________________________________________________________________\n",
      "batch_normalization_2 (Batch (None, 16, 16, 64)        256       \n",
      "_________________________________________________________________\n",
      "conv2d_3 (Conv2D)            (None, 16, 16, 64)        36928     \n",
      "_________________________________________________________________\n",
      "batch_normalization_3 (Batch (None, 16, 16, 64)        256       \n",
      "_________________________________________________________________\n",
      "max_pooling2d_1 (MaxPooling2 (None, 8, 8, 64)          0         \n",
      "_________________________________________________________________\n",
      "conv2d_4 (Conv2D)            (None, 8, 8, 128)         73856     \n",
      "_________________________________________________________________\n",
      "batch_normalization_4 (Batch (None, 8, 8, 128)         512       \n",
      "_________________________________________________________________\n",
      "conv2d_5 (Conv2D)            (None, 8, 8, 128)         147584    \n",
      "_________________________________________________________________\n",
      "batch_normalization_5 (Batch (None, 8, 8, 128)         512       \n",
      "_________________________________________________________________\n",
      "max_pooling2d_2 (MaxPooling2 (None, 4, 4, 128)         0         \n",
      "_________________________________________________________________\n",
      "flatten (Flatten)            (None, 2048)              0         \n",
      "_________________________________________________________________\n",
      "dropout (Dropout)            (None, 2048)              0         \n",
      "_________________________________________________________________\n",
      "dense (Dense)                (None, 1024)              2098176   \n",
      "_________________________________________________________________\n",
      "dropout_1 (Dropout)          (None, 1024)              0         \n",
      "_________________________________________________________________\n",
      "dense_1 (Dense)              (None, 10)                10250     \n",
      "=================================================================\n",
      "Total params: 2,397,226\n",
      "Trainable params: 2,396,330\n",
      "Non-trainable params: 896\n",
      "_________________________________________________________________\n"
     ]
    }
   ],
   "source": [
    "# Now that the model is so large, it's useful to summarize it\n",
    "model.summary()"
   ]
  }
 ],
 "metadata": {
  "accelerator": "GPU",
  "colab": {
   "collapsed_sections": [],
   "name": "7 CNN_CIFAR_Improved.ipynb",
   "provenance": []
  },
  "kernelspec": {
   "display_name": "Python 3",
   "language": "python",
   "name": "python3"
  },
  "language_info": {
   "codemirror_mode": {
    "name": "ipython",
    "version": 3
   },
   "file_extension": ".py",
   "mimetype": "text/x-python",
   "name": "python",
   "nbconvert_exporter": "python",
   "pygments_lexer": "ipython3",
   "version": "3.8.3"
  }
 },
 "nbformat": 4,
 "nbformat_minor": 1
}
